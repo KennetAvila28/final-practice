{
 "cells": [
  {
   "cell_type": "code",
   "execution_count": 14,
   "metadata": {},
   "outputs": [
    {
     "data": {
      "text/html": [
       "<div>\n",
       "<style scoped>\n",
       "    .dataframe tbody tr th:only-of-type {\n",
       "        vertical-align: middle;\n",
       "    }\n",
       "\n",
       "    .dataframe tbody tr th {\n",
       "        vertical-align: top;\n",
       "    }\n",
       "\n",
       "    .dataframe thead th {\n",
       "        text-align: right;\n",
       "    }\n",
       "</style>\n",
       "<table border=\"1\" class=\"dataframe\">\n",
       "  <thead>\n",
       "    <tr style=\"text-align: right;\">\n",
       "      <th></th>\n",
       "      <th>Año</th>\n",
       "      <th>Mes</th>\n",
       "      <th>Periodo</th>\n",
       "      <th>TotalVentas</th>\n",
       "    </tr>\n",
       "  </thead>\n",
       "  <tbody>\n",
       "    <tr>\n",
       "      <th>0</th>\n",
       "      <td>2022</td>\n",
       "      <td>Enero</td>\n",
       "      <td>1</td>\n",
       "      <td>16639450.56</td>\n",
       "    </tr>\n",
       "    <tr>\n",
       "      <th>1</th>\n",
       "      <td>2022</td>\n",
       "      <td>Febrero</td>\n",
       "      <td>2</td>\n",
       "      <td>15158130.66</td>\n",
       "    </tr>\n",
       "    <tr>\n",
       "      <th>2</th>\n",
       "      <td>2022</td>\n",
       "      <td>Marzo</td>\n",
       "      <td>3</td>\n",
       "      <td>1817598.06</td>\n",
       "    </tr>\n",
       "    <tr>\n",
       "      <th>3</th>\n",
       "      <td>2022</td>\n",
       "      <td>Abril</td>\n",
       "      <td>4</td>\n",
       "      <td>1508414.89</td>\n",
       "    </tr>\n",
       "    <tr>\n",
       "      <th>4</th>\n",
       "      <td>2022</td>\n",
       "      <td>Mayo</td>\n",
       "      <td>5</td>\n",
       "      <td>87370.74</td>\n",
       "    </tr>\n",
       "    <tr>\n",
       "      <th>5</th>\n",
       "      <td>2022</td>\n",
       "      <td>Junio</td>\n",
       "      <td>6</td>\n",
       "      <td>53520.80</td>\n",
       "    </tr>\n",
       "    <tr>\n",
       "      <th>6</th>\n",
       "      <td>2022</td>\n",
       "      <td>Julio</td>\n",
       "      <td>7</td>\n",
       "      <td>55554.49</td>\n",
       "    </tr>\n",
       "  </tbody>\n",
       "</table>\n",
       "</div>"
      ],
      "text/plain": [
       "    Año      Mes  Periodo  TotalVentas\n",
       "0  2022    Enero        1  16639450.56\n",
       "1  2022  Febrero        2  15158130.66\n",
       "2  2022    Marzo        3   1817598.06\n",
       "3  2022    Abril        4   1508414.89\n",
       "4  2022     Mayo        5     87370.74\n",
       "5  2022    Junio        6     53520.80\n",
       "6  2022    Julio        7     55554.49"
      ]
     },
     "execution_count": 14,
     "metadata": {},
     "output_type": "execute_result"
    }
   ],
   "source": [
    "import pandas as pd\n",
    "import numpy as np\n",
    "import matplotlib.pyplot as plt\n",
    "from sklearn import linear_model\n",
    "from sklearn.metrics import mean_squared_error, r2_score\n",
    "\n",
    "\n",
    "\n",
    "#%% Carga del dataframe.\n",
    "pd.read_csv( r\"C:\\VentasxMes2022.csv\")"
   ]
  },
  {
   "cell_type": "code",
   "execution_count": 15,
   "metadata": {},
   "outputs": [
    {
     "data": {
      "text/plain": [
       "Index(['Año', 'Mes', 'Periodo', 'TotalVentas'], dtype='object')"
      ]
     },
     "execution_count": 15,
     "metadata": {},
     "output_type": "execute_result"
    }
   ],
   "source": [
    "df =pd.read_csv( r\"C:\\VentasxMes2022.csv\")\n",
    "df.columns"
   ]
  },
  {
   "cell_type": "code",
   "execution_count": 16,
   "metadata": {},
   "outputs": [
    {
     "data": {
      "image/png": "[encoded data removed]",
      "text/plain": [
       "<Figure size 432x288 with 1 Axes>"
      ]
     },
     "metadata": {
      "needs_background": "light"
     },
     "output_type": "display_data"
    }
   ],
   "source": [
    "x = df['Periodo']\n",
    "y = df['TotalVentas']\n",
    "z = [8]\n",
    "\n",
    "#Convertimos las listas de entrada en matrices\n",
    "x = np.array(x)\n",
    "y = np.array(y)\n",
    "z = np.array(z)\n",
    "\n",
    "#Graficamos los datos de entrada\n",
    "plt.scatter(x,y,label='data', color='blue')\n",
    "plt.title('Distribución entre meses y demanda');"
   ]
  },
  {
   "cell_type": "code",
   "execution_count": 17,
   "metadata": {},
   "outputs": [
    {
     "data": {
      "image/png": "[encoded data removed]",
      "text/plain": [
       "<Figure size 432x288 with 1 Axes>"
      ]
     },
     "metadata": {
      "needs_background": "light"
     },
     "output_type": "display_data"
    }
   ],
   "source": [
    "x = df['Mes']\n",
    "y = df['TotalVentas']\n",
    "z = [8]\n",
    "\n",
    "#Convertimos las listas de entrada en matrices\n",
    "x = np.array(x)\n",
    "y = np.array(y)\n",
    "z = np.array(z)\n",
    "\n",
    "#Graficamos los datos de entrada\n",
    "plt.scatter(x,y,label='data', color='blue')\n",
    "plt.title('Distribución entre meses y demanda');"
   ]
  },
  {
   "cell_type": "code",
   "execution_count": 18,
   "metadata": {},
   "outputs": [
    {
     "name": "stdout",
     "output_type": "stream",
     "text": [
      "\n",
      "Parámetros del modelo de regresión\n",
      "b (Pendiente) = [-2917540.54464286], a (Punto de corte) = 16715882.207142856\n"
     ]
    },
    {
     "data": {
      "image/png": "[encoded data removed]",
      "text/plain": [
       "<Figure size 432x288 with 1 Axes>"
      ]
     },
     "metadata": {
      "needs_background": "light"
     },
     "output_type": "display_data"
    }
   ],
   "source": [
    "x = df['Periodo']\n",
    "y = df['TotalVentas']\n",
    "z = [8]\n",
    "\n",
    "#Convertimos las listas de entrada en matrices\n",
    "x = np.array(x)\n",
    "y = np.array(y)\n",
    "z = np.array(z)\n",
    "\n",
    "#Graficamos los datos de entrada\n",
    "plt.scatter(x,y,label='data', color='blue')\n",
    "plt.title('Distribución entre meses y demanda')\n",
    "\n",
    "\n",
    "regresion_lineal = linear_model.LinearRegression()\n",
    "regresion_lineal.fit(x.reshape(-1,1), y) \n",
    "# Imprimimos los parámetros que ha estimado la regresión lineal\n",
    "print('\\nParámetros del modelo de regresión')\n",
    "print('b (Pendiente) = ' + str(regresion_lineal.coef_) + ', a (Punto de corte) = ' + str(regresion_lineal.intercept_))"
   ]
  },
  {
   "cell_type": "code",
   "execution_count": 19,
   "metadata": {},
   "outputs": [
    {
     "name": "stdout",
     "output_type": "stream",
     "text": [
      "\n",
      "Parámetros del modelo de regresión\n",
      "b (Pendiente) = [-2917540.54464286], a (Punto de corte) = 16715882.207142856\n",
      "\n",
      "Pronósticos\n",
      "Pronóstico para el periodo 8 = -6624442.1499999985 \n"
     ]
    },
    {
     "data": {
      "image/png": "[encoded data removed]",
      "text/plain": [
       "<Figure size 432x288 with 1 Axes>"
      ]
     },
     "metadata": {
      "needs_background": "light"
     },
     "output_type": "display_data"
    }
   ],
   "source": [
    "x = df['Periodo']\n",
    "y = df['TotalVentas']\n",
    "z = [8]\n",
    "\n",
    "#Convertimos las listas de entrada en matrices\n",
    "x = np.array(x)\n",
    "y = np.array(y)\n",
    "z = np.array(z)\n",
    "\n",
    "#Graficamos los datos de entrada\n",
    "plt.scatter(x,y,label='data', color='blue')\n",
    "plt.title('Distribución entre meses y demanda')\n",
    "\n",
    "\n",
    "regresion_lineal = linear_model.LinearRegression()\n",
    "regresion_lineal.fit(x.reshape(-1,1), y) \n",
    "# Imprimimos los parámetros que ha estimado la regresión lineal\n",
    "print('\\nParámetros del modelo de regresión')\n",
    "print('b (Pendiente) = ' + str(regresion_lineal.coef_) + ', a (Punto de corte) = ' + str(regresion_lineal.intercept_))\n",
    "\n",
    "\n",
    "\n",
    "pronostico = regresion_lineal.predict(z.reshape(-1,1))\n",
    "\n",
    "print('\\nPronósticos')\n",
    "for i in range(len(z)): print('Pronóstico para el periodo {0} = {1} '.format(z[i], pronostico[i]))"
   ]
  },
  {
   "cell_type": "code",
   "execution_count": 8,
   "metadata": {},
   "outputs": [
    {
     "name": "stdout",
     "output_type": "stream",
     "text": [
      "\n",
      "Parámetros del modelo de regresión\n",
      "b (Pendiente) = [-2917540.54464286], a (Punto de corte) = 17540167.92142857\n",
      "\n",
      "Pronósticos\n",
      "Pronóstico para el periodo 8 = -5800156.435714282 \n",
      "\n",
      "Evaluación de calidad de la regresión\n",
      "Error Cuadrático Medio (MSE) = 11913834186942.371\n",
      "Raíz del Error Cuadrático Medio (RMSE) = 3451642.2449237653\n",
      "Coeficiente de Determinación R2 = 0.7407895052464291\n"
     ]
    },
    {
     "data": {
      "text/plain": [
       "Text(0, 0.5, 'Demanda')"
      ]
     },
     "execution_count": 8,
     "metadata": {},
     "output_type": "execute_result"
    },
    {
     "data": {
      "image/png": "[encoded data removed]",
      "text/plain": [
       "<Figure size 432x288 with 1 Axes>"
      ]
     },
     "metadata": {
      "needs_background": "light"
     },
     "output_type": "display_data"
    }
   ],
   "source": [
    "x = df['Periodo']\n",
    "y = df['TotalVentas']\n",
    "z = [8]\n",
    "\n",
    "#Convertimos las listas de entrada en matrices\n",
    "x = np.array(x)\n",
    "y = np.array(y)\n",
    "z = np.array(z)\n",
    "\n",
    "#Graficamos los datos de entrada\n",
    "plt.scatter(x,y,label='data', color='blue')\n",
    "plt.title('Distribución entre meses y demanda')\n",
    "\n",
    "\n",
    "regresion_lineal = linear_model.LinearRegression()\n",
    "regresion_lineal.fit(x.reshape(-1,1), y) \n",
    "# Imprimimos los parámetros que ha estimado la regresión lineal\n",
    "print('\\nParámetros del modelo de regresión')\n",
    "print('b (Pendiente) = ' + str(regresion_lineal.coef_) + ', a (Punto de corte) = ' + str(regresion_lineal.intercept_))\n",
    "\n",
    "\n",
    "\n",
    "pronostico = regresion_lineal.predict(z.reshape(-1,1))\n",
    "\n",
    "print('\\nPronósticos')\n",
    "for i in range(len(z)): print('Pronóstico para el periodo {0} = {1} '.format(z[i], pronostico[i]))\n",
    "\n",
    "pronostico_entrenamiento = regresion_lineal.predict(x.reshape(-1,1))\n",
    "mse = mean_squared_error(y_true = y, y_pred = pronostico_entrenamiento)\n",
    "rmse = np.sqrt(mse)\n",
    "print('\\nEvaluación de calidad de la regresión')\n",
    "print('Error Cuadrático Medio (MSE) = ' + str(mse))\n",
    "print('Raíz del Error Cuadrático Medio (RMSE) = ' + str(rmse))\n",
    "\n",
    "r2 = regresion_lineal.score(x.reshape(-1,1), y)\n",
    "print('Coeficiente de Determinación R2 = ' + str(r2))\n",
    "\n",
    "plt.plot(x,pronostico_entrenamiento,label='data', color='red')\n",
    "plt.xlabel('Meses')\n",
    "plt.ylabel('Demanda')"
   ]
  },
  {
   "cell_type": "code",
   "execution_count": 9,
   "metadata": {},
   "outputs": [
    {
     "name": "stdout",
     "output_type": "stream",
     "text": [
      "\n",
      "Parámetros del modelo de regresión\n",
      "b (Pendiente) = [-2917540.54464286], a (Punto de corte) = 17540167.92142857\n",
      "\n",
      "Pronósticos\n",
      "Pronóstico para el periodo 8 = -5800156.435714282 \n",
      "Pronóstico para el periodo 9 = -8717696.98035714 \n",
      "Pronóstico para el periodo 10 = -11635237.524999995 \n",
      "Pronóstico para el periodo 11 = -14552778.06964285 \n",
      "Pronóstico para el periodo 12 = -17470318.614285707 \n",
      "\n",
      "Evaluación de calidad de la regresión\n",
      "Error Cuadrático Medio (MSE) = 11913834186942.371\n",
      "Raíz del Error Cuadrático Medio (RMSE) = 3451642.2449237653\n",
      "Coeficiente de Determinación R2 = 0.7407895052464291\n"
     ]
    },
    {
     "data": {
      "text/plain": [
       "Text(0, 0.5, 'Demanda')"
      ]
     },
     "execution_count": 9,
     "metadata": {},
     "output_type": "execute_result"
    },
    {
     "data": {
      "image/png": "[encoded data removed]",
      "text/plain": [
       "<Figure size 432x288 with 1 Axes>"
      ]
     },
     "metadata": {
      "needs_background": "light"
     },
     "output_type": "display_data"
    }
   ],
   "source": [
    "import numpy as np\n",
    "import matplotlib.pyplot as plt \n",
    "from sklearn import linear_model\n",
    "from sklearn.metrics import mean_squared_error, r2_score\n",
    "\n",
    "x = df['Periodo']\n",
    "y = df['TotalVentas']\n",
    "z = [8,9,10,11,12]\n",
    "\n",
    "#Inputs\n",
    "x = np.array(x) #periodo de entrenamiento\n",
    "y = np.array(y)\n",
    "z = np.array(z) #Periodos que deseo pronosticar\n",
    "\n",
    "plt.scatter(x,y,label='data', color='blue')\n",
    "plt.title('Distribución entre meses y demanda');\n",
    "\n",
    "regresion_lineal = linear_model.LinearRegression()\n",
    "regresion_lineal.fit(x.reshape(-1,1), y) \n",
    "print('\\nParámetros del modelo de regresión')\n",
    "print('b (Pendiente) = ' + str(regresion_lineal.coef_) + ', a (Punto de corte) = ' + str(regresion_lineal.intercept_))\n",
    "\n",
    "# vamos a predecir el periodo 7 (z = [7]\n",
    "pronostico = regresion_lineal.predict(z.reshape(-1,1))\n",
    "\n",
    "print('\\nPronósticos')\n",
    "for i in range(len(z)):\n",
    "    print('Pronóstico para el periodo {0} = {1} '.format(z[i], pronostico[i]))\n",
    "\n",
    "\n",
    "\n",
    "plt.plot(x,pronostico_entrenamiento,label='data', color='red')\n",
    "plt.xlabel('Meses')\n",
    "plt.ylabel('Demanda')"
   ]
  }
 ],
 "metadata": {
  "kernelspec": {
   "display_name": "Python 3.10.5 64-bit",
   "language": "python",
   "name": "python3"
  },
  "language_info": {
   "codemirror_mode": {
    "name": "ipython",
    "version": 3
   },
   "file_extension": ".py",
   "mimetype": "text/x-python",
   "name": "python",
   "nbconvert_exporter": "python",
   "pygments_lexer": "ipython3",
   "version": "3.10.5"
  },
  "orig_nbformat": 4,
  "vscode": {
   "interpreter": {
    "hash": "98b7f83ea1f6816592be813d0a9257f9f3e2d15bf5c320e3b781c72faa584dce"
   }
  }
 },
 "nbformat": 4,
 "nbformat_minor": 2
}
